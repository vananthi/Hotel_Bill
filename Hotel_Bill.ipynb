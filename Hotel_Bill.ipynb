{
  "nbformat": 4,
  "nbformat_minor": 0,
  "metadata": {
    "colab": {
      "provenance": [],
      "authorship_tag": "ABX9TyNyhYq4DgRH7M6EewybOB7Z",
      "include_colab_link": true
    },
    "kernelspec": {
      "name": "python3",
      "display_name": "Python 3"
    },
    "language_info": {
      "name": "python"
    }
  },
  "cells": [
    {
      "cell_type": "markdown",
      "metadata": {
        "id": "view-in-github",
        "colab_type": "text"
      },
      "source": [
        "<a href=\"https://colab.research.google.com/github/vananthi/Hotel_Bill/blob/main/Hotel_Bill.ipynb\" target=\"_parent\"><img src=\"https://colab.research.google.com/assets/colab-badge.svg\" alt=\"Open In Colab\"/></a>"
      ]
    },
    {
      "cell_type": "code",
      "source": [
        "# To print hotal bill with name,phone_no\n",
        "print(\"Ananthi Bhaven\")\n",
        "d_pr=20\n",
        "i_pr=30\n",
        "p_pr=20\n",
        "print(\"ph:9894599222\")\n",
        "d_count=float(input(\"how many dosa:\"))\n",
        "i_count=float(input(\"how many idlly:\"))\n",
        "p_count=float(input(\"how many puri:\"))\n",
        "total=d_count*d_pr+i_count*i_pr+p_count*p_pr\n",
        "print(\"total:\",total)"
      ],
      "metadata": {
        "id": "ieB0KpG9QRN6",
        "colab": {
          "base_uri": "https://localhost:8080/"
        },
        "outputId": "36910d81-aece-40a4-ae31-e093bdc1d82b"
      },
      "execution_count": 2,
      "outputs": [
        {
          "output_type": "stream",
          "name": "stdout",
          "text": [
            "Ananthi Bhaven\n",
            "ph:9894599222\n",
            "how many dosa:9\n",
            "how many idlly:8\n",
            "how many puri:7\n",
            "total: 560.0\n"
          ]
        }
      ]
    },
    {
      "cell_type": "code",
      "source": [
        "# To find student name,two marks,total\n",
        "print(\"GGHSS\")\n",
        "print(\"pin:600754\")\n",
        "std_name=str(input(\"ms/mr:\"))\n",
        "tamil=float(input(\"how many in tamil mark:\"))\n",
        "eng=float(input(\"how many in english mark:\"))\n",
        "total=tamil+eng\n",
        "print(\"total:\",total)\n"
      ],
      "metadata": {
        "colab": {
          "base_uri": "https://localhost:8080/"
        },
        "id": "WhyvqG_x2qrf",
        "outputId": "357683a6-56f2-4bdd-efbe-5d6594443db9"
      },
      "execution_count": 4,
      "outputs": [
        {
          "output_type": "stream",
          "name": "stdout",
          "text": [
            "GGHSS\n",
            "pin:600754\n",
            "ms/mr:Ananthi\n",
            "how many in tamil mark:90\n",
            "how many in english mark:92\n",
            "total: 182.0\n"
          ]
        }
      ]
    }
  ]
}